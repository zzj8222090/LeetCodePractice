{
 "cells": [
  {
   "cell_type": "code",
   "execution_count": null,
   "metadata": {},
   "outputs": [],
   "source": [
    "from collections import defaultdict\n",
    "from statistics import mean\n",
    "class Solution:\n",
    "    def highFive(self, items: List[List[int]]) -> List[List[int]]:\n",
    "        items.sort(key=lambda x: (x[0],-x[1]))        \n",
    "        res = defaultdict(list)\n",
    "        result = []\n",
    "        for item in items:\n",
    "            key = item[0]\n",
    "            res[key].append(item[1])\n",
    "        for k,v in res.items():\n",
    "            if len(v)>5:\n",
    "                v = v[:5]\n",
    "            tp = math.floor(mean(v))\n",
    "            result.append([k,tp])\n",
    "        return result"
   ]
  }
 ],
 "metadata": {
  "kernelspec": {
   "display_name": "Python 3",
   "language": "python",
   "name": "python3"
  },
  "language_info": {
   "codemirror_mode": {
    "name": "ipython",
    "version": 3
   },
   "file_extension": ".py",
   "mimetype": "text/x-python",
   "name": "python",
   "nbconvert_exporter": "python",
   "pygments_lexer": "ipython3",
   "version": "3.7.2"
  }
 },
 "nbformat": 4,
 "nbformat_minor": 2
}
