{
 "cells": [
  {
   "cell_type": "code",
   "execution_count": null,
   "metadata": {},
   "outputs": [],
   "source": [
    "class Solution(object):\n",
    "    def peakIndexInMountainArray(self, A):\n",
    "        \"\"\"\n",
    "        :type A: List[int]\n",
    "        :rtype: int\n",
    "        \"\"\"\n",
    "        return A.index(max(A))\n",
    "        # lo, hi = 0, len(A) - 1\n",
    "        # while lo < hi:\n",
    "        #     mi = (lo + hi) / 2\n",
    "        #     if A[mi] < A[mi + 1]:\n",
    "        #         lo = mi + 1\n",
    "        #     else:\n",
    "        #         hi = mi\n",
    "        # return lo"
   ]
  }
 ],
 "metadata": {
  "kernelspec": {
   "display_name": "Python 3",
   "language": "python",
   "name": "python3"
  },
  "language_info": {
   "codemirror_mode": {
    "name": "ipython",
    "version": 3
   },
   "file_extension": ".py",
   "mimetype": "text/x-python",
   "name": "python",
   "nbconvert_exporter": "python",
   "pygments_lexer": "ipython3",
   "version": "3.6.3"
  }
 },
 "nbformat": 4,
 "nbformat_minor": 2
}
