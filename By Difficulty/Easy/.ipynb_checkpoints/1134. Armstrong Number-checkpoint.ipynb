{
 "cells": [
  {
   "cell_type": "code",
   "execution_count": null,
   "metadata": {},
   "outputs": [],
   "source": [
    "class Solution:\n",
    "    def isArmstrong(self, N: int) -> bool:\n",
    "        tpN = N\n",
    "        l = len(str(N))\n",
    "        d = 0\n",
    "        for i in range(l):\n",
    "            # tp = int(str(N)[i])\n",
    "            tp = N%(10)\n",
    "            d+=tp**l\n",
    "            N//=10\n",
    "        return d==tpN"
   ]
  }
 ],
 "metadata": {
  "kernelspec": {
   "display_name": "Python 3",
   "language": "python",
   "name": "python3"
  },
  "language_info": {
   "codemirror_mode": {
    "name": "ipython",
    "version": 3
   },
   "file_extension": ".py",
   "mimetype": "text/x-python",
   "name": "python",
   "nbconvert_exporter": "python",
   "pygments_lexer": "ipython3",
   "version": "3.7.2"
  }
 },
 "nbformat": 4,
 "nbformat_minor": 2
}
