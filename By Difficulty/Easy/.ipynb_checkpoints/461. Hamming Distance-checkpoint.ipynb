{
 "cells": [
  {
   "cell_type": "code",
   "execution_count": null,
   "metadata": {},
   "outputs": [],
   "source": [
    "class Solution(object):\n",
    "    def hammingDistance(self, x, y):\n",
    "        \"\"\"\n",
    "        :type x: int\n",
    "        :type y: int\n",
    "        :rtype: int\n",
    "        \"\"\"\n",
    "        return bin(x ^ y).count(\"1\")\n",
    "#         X = bin(x)[2:]\n",
    "#         Y = bin(y)[2:]\n",
    "#         if len(X)>len(Y):\n",
    "#             Y = self.pad(X,Y)\n",
    "#         else:\n",
    "#             X = self.pad(Y,X)\n",
    "#         return len([i for i in range(len(X)) if X[i]!=Y[i]])\n",
    "        \n",
    "#     def pad(self,a,b):\n",
    "#         la = len(a)\n",
    "#         lb = len(b)\n",
    "#         for i in range(la-lb):\n",
    "#             b = '0'+b\n",
    "#         return b"
   ]
  }
 ],
 "metadata": {
  "kernelspec": {
   "display_name": "Python 3",
   "language": "python",
   "name": "python3"
  },
  "language_info": {
   "codemirror_mode": {
    "name": "ipython",
    "version": 3
   },
   "file_extension": ".py",
   "mimetype": "text/x-python",
   "name": "python",
   "nbconvert_exporter": "python",
   "pygments_lexer": "ipython3",
   "version": "3.6.3"
  }
 },
 "nbformat": 4,
 "nbformat_minor": 2
}
