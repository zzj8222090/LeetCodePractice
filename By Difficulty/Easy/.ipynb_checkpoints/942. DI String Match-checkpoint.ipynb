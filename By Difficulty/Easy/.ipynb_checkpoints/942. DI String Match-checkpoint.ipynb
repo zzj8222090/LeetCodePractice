{
 "cells": [
  {
   "cell_type": "code",
   "execution_count": null,
   "metadata": {},
   "outputs": [],
   "source": [
    "class Solution(object):\n",
    "    def diStringMatch(self, S):\n",
    "        lo, hi = 0, len(S)\n",
    "        ans = []\n",
    "        for x in S:\n",
    "            if x == 'I':\n",
    "                ans.append(lo)\n",
    "                lo += 1\n",
    "            else:\n",
    "                ans.append(hi)\n",
    "                hi -= 1\n",
    "\n",
    "        return ans + [lo]"
   ]
  }
 ],
 "metadata": {
  "kernelspec": {
   "display_name": "Python 3",
   "language": "python",
   "name": "python3"
  },
  "language_info": {
   "codemirror_mode": {
    "name": "ipython",
    "version": 3
   },
   "file_extension": ".py",
   "mimetype": "text/x-python",
   "name": "python",
   "nbconvert_exporter": "python",
   "pygments_lexer": "ipython3",
   "version": "3.6.3"
  }
 },
 "nbformat": 4,
 "nbformat_minor": 2
}
