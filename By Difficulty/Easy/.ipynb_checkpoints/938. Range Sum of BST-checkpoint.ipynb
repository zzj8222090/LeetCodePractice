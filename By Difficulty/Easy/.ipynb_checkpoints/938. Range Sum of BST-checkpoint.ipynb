{
 "cells": [
  {
   "cell_type": "code",
   "execution_count": null,
   "metadata": {},
   "outputs": [],
   "source": [
    "# Definition for a binary tree node.\n",
    "# class TreeNode:\n",
    "#     def __init__(self, x):\n",
    "#         self.val = x\n",
    "#         self.left = None\n",
    "#         self.right = None\n",
    "\n",
    "class Solution:\n",
    "    def rangeSumBST(self, root: TreeNode, L: int, R: int) -> int:\n",
    "        def dfs(node, L, R):\n",
    "            if node:\n",
    "                if L<=node.val and R>=node.val:\n",
    "                    self.result+=node.val\n",
    "                if L<node.val:\n",
    "                    dfs(node.left,L,R)\n",
    "                if R>node.val:\n",
    "                    dfs(node.right,L,R)\n",
    "        self.result = 0\n",
    "        dfs(root,L,R)\n",
    "        return self.result"
   ]
  }
 ],
 "metadata": {
  "kernelspec": {
   "display_name": "Python 3",
   "language": "python",
   "name": "python3"
  },
  "language_info": {
   "codemirror_mode": {
    "name": "ipython",
    "version": 3
   },
   "file_extension": ".py",
   "mimetype": "text/x-python",
   "name": "python",
   "nbconvert_exporter": "python",
   "pygments_lexer": "ipython3",
   "version": "3.7.2"
  }
 },
 "nbformat": 4,
 "nbformat_minor": 2
}
