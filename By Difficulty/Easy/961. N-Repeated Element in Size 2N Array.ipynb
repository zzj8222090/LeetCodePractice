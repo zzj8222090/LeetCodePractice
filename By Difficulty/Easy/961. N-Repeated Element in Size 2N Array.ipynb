{
 "cells": [
  {
   "cell_type": "code",
   "execution_count": null,
   "metadata": {},
   "outputs": [],
   "source": [
    "from collections import Counter\n",
    "class Solution(object):\n",
    "    def repeatedNTimes(self, A):\n",
    "        \"\"\"\n",
    "        :type A: List[int]\n",
    "        :rtype: int\n",
    "        \"\"\"\n",
    "        c = Counter(A)\n",
    "        return c.most_common(1)[0][0]\n",
    "        # l = len(A)/2\n",
    "        # d = dict()\n",
    "        # for i in A:\n",
    "        #     if i in d:\n",
    "        #         d[i] += 1\n",
    "        #     else:\n",
    "        #         d[i] = 1\n",
    "        # for k,v in d.items():\n",
    "        #     if v == l:\n",
    "        #         return k\n",
    "        #     else:\n",
    "        #         continue"
   ]
  }
 ],
 "metadata": {
  "kernelspec": {
   "display_name": "Python 3",
   "language": "python",
   "name": "python3"
  },
  "language_info": {
   "codemirror_mode": {
    "name": "ipython",
    "version": 3
   },
   "file_extension": ".py",
   "mimetype": "text/x-python",
   "name": "python",
   "nbconvert_exporter": "python",
   "pygments_lexer": "ipython3",
   "version": "3.6.3"
  }
 },
 "nbformat": 4,
 "nbformat_minor": 2
}
