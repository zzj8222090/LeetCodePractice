{
 "cells": [
  {
   "cell_type": "code",
   "execution_count": null,
   "metadata": {},
   "outputs": [],
   "source": [
    "class Solution:\n",
    "    def anagramMappings(self, A: List[int], B: List[int]) -> List[int]:\n",
    "        # if not A: return\n",
    "        # d = {}\n",
    "        # for i,j in enumerate(B):\n",
    "        #     d[j] = i\n",
    "        # result = []\n",
    "        # for i in range(len(A)):\n",
    "        #     result.append(d[A[i]])\n",
    "        # return result\n",
    "        return [B.index(val) for val in A]"
   ]
  }
 ],
 "metadata": {
  "kernelspec": {
   "display_name": "Python 3",
   "language": "python",
   "name": "python3"
  },
  "language_info": {
   "codemirror_mode": {
    "name": "ipython",
    "version": 3
   },
   "file_extension": ".py",
   "mimetype": "text/x-python",
   "name": "python",
   "nbconvert_exporter": "python",
   "pygments_lexer": "ipython3",
   "version": "3.7.2"
  }
 },
 "nbformat": 4,
 "nbformat_minor": 2
}
