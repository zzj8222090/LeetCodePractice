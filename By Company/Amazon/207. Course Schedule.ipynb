{
 "cells": [
  {
   "cell_type": "code",
   "execution_count": null,
   "metadata": {},
   "outputs": [],
   "source": [
    "from collections import  defaultdict\n",
    "class Solution(object):\n",
    "    def canFinish(self, numCourses, prerequisites):\n",
    "        \"\"\"\n",
    "        :type numCourses: int\n",
    "        :type prerequisites: List[List[int]]\n",
    "        :rtype: bool\n",
    "        \"\"\"\n",
    "        incoming = defaultdict(int)\n",
    "        outgoing = defaultdict(set)\n",
    "        for i, j in prerequisites:\n",
    "            incoming[i] +=1\n",
    "            outgoing[j].add(i)\n",
    "        stack = [node for node in range(numCourses) if not incoming[node]]\n",
    "        while stack:\n",
    "            node = stack.pop(0)\n",
    "            for neigh in outgoing[node]:\n",
    "                incoming[neigh] -=1\n",
    "                if not incoming[neigh]:\n",
    "                    stack.append(neigh)\n",
    "            incoming.pop(node)\n",
    "        return not incoming"
   ]
  }
 ],
 "metadata": {
  "kernelspec": {
   "display_name": "Python 3",
   "language": "python",
   "name": "python3"
  },
  "language_info": {
   "codemirror_mode": {
    "name": "ipython",
    "version": 3
   },
   "file_extension": ".py",
   "mimetype": "text/x-python",
   "name": "python",
   "nbconvert_exporter": "python",
   "pygments_lexer": "ipython3",
   "version": "3.6.3"
  }
 },
 "nbformat": 4,
 "nbformat_minor": 2
}
