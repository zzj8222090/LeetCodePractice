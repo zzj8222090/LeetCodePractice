{
 "cells": [
  {
   "cell_type": "code",
   "execution_count": null,
   "metadata": {},
   "outputs": [],
   "source": [
    "# Definition for singly-linked list.\n",
    "# class ListNode:\n",
    "#     def __init__(self, x):\n",
    "#         self.val = x\n",
    "#         self.next = None\n",
    "\n",
    "import heapq\n",
    "\n",
    "class Solution:\n",
    "    def mergeKLists(self, lists: List[ListNode]) -> ListNode:\n",
    "        h = [(l.val, idx) for idx, l in enumerate(lists) if l]\n",
    "        print(h)\n",
    "        heapq.heapify(h)\n",
    "        head = cur = ListNode(None)\n",
    "        while h:\n",
    "            val, idx = heapq.heappop(h)\n",
    "            cur.next = ListNode(val)\n",
    "            cur = cur.next\n",
    "            node = lists[idx] = lists[idx].next\n",
    "            if node:\n",
    "                heapq.heappush(h, (node.val, idx))\n",
    "        return head.next"
   ]
  }
 ],
 "metadata": {
  "kernelspec": {
   "display_name": "Python 3",
   "language": "python",
   "name": "python3"
  },
  "language_info": {
   "codemirror_mode": {
    "name": "ipython",
    "version": 3
   },
   "file_extension": ".py",
   "mimetype": "text/x-python",
   "name": "python",
   "nbconvert_exporter": "python",
   "pygments_lexer": "ipython3",
   "version": "3.6.3"
  }
 },
 "nbformat": 4,
 "nbformat_minor": 2
}
