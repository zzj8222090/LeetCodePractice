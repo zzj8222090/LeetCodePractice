{
 "cells": [
  {
   "cell_type": "code",
   "execution_count": null,
   "metadata": {},
   "outputs": [],
   "source": [
    "class Solution:\n",
    "    def exist(self, board, word):\n",
    "        if board == []:\n",
    "            return False\n",
    "        rows=len(board)\n",
    "        cols=len(board[0])\n",
    "        \n",
    "        def dfs(board,word,r,c):\n",
    "            if word==\"\":\n",
    "                return True\n",
    "            \n",
    "            if r<0 or r>rows-1 or c<0 or c>cols-1 or  board[r][c]!=word[0]:\n",
    "                return False\n",
    "\n",
    "            board_copy=[[board[i][j] for j in range(cols)] for i in range(rows)]\n",
    "            board_copy[r][c]=\"#\"\n",
    "            \n",
    "            return dfs(board_copy,word[1:],r,c+1) or \\\n",
    "\t\t\t         dfs(board_copy,word[1:],r,c-1) or \\\n",
    "                       dfs(board_copy,word[1:],r+1,c) or \\\n",
    "\t\t\t\t\t   dfs(board_copy,word[1:],r-1,c)\n",
    "\n",
    "        for r in range(rows):\n",
    "            for c in range(cols):\n",
    "                if dfs(board,word,r,c):\n",
    "                    return True\n",
    "        return False"
   ]
  }
 ],
 "metadata": {
  "kernelspec": {
   "display_name": "Python 3",
   "language": "python",
   "name": "python3"
  },
  "language_info": {
   "codemirror_mode": {
    "name": "ipython",
    "version": 3
   },
   "file_extension": ".py",
   "mimetype": "text/x-python",
   "name": "python",
   "nbconvert_exporter": "python",
   "pygments_lexer": "ipython3",
   "version": "3.7.2"
  }
 },
 "nbformat": 4,
 "nbformat_minor": 2
}
