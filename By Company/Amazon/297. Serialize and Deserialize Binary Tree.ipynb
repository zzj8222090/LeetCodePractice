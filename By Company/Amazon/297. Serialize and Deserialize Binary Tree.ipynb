{
 "cells": [
  {
   "cell_type": "code",
   "execution_count": null,
   "metadata": {},
   "outputs": [],
   "source": [
    "# Definition for a binary tree node.\n",
    "# class TreeNode(object):\n",
    "#     def __init__(self, x):\n",
    "#         self.val = x\n",
    "#         self.left = None\n",
    "#         self.right = None\n",
    "\n",
    "class Codec:\n",
    "\n",
    "    def serialize(self, root):\n",
    "        \"\"\"Encodes a tree to a single string.\n",
    "        \n",
    "        :type root: TreeNode\n",
    "        :rtype: str\n",
    "        \"\"\"\n",
    "        def rserialize(root, string):\n",
    "            \"\"\" a recursive helper function for the serialize() function.\"\"\"\n",
    "            # check base case\n",
    "            if root is None:\n",
    "                string += 'None,'\n",
    "            else:\n",
    "                string += str(root.val) + ','\n",
    "                string = rserialize(root.left, string)\n",
    "                string = rserialize(root.right, string)\n",
    "            return string\n",
    "        \n",
    "        return rserialize(root, '')\n",
    "        \n",
    "\n",
    "    def deserialize(self, data):\n",
    "        \"\"\"Decodes your encoded data to tree.\n",
    "        \n",
    "        :type data: str\n",
    "        :rtype: TreeNode\n",
    "        \"\"\"\n",
    "        def rdeserialize(l):\n",
    "            \"\"\" a recursive helper function for deserialization.\"\"\"\n",
    "            if l[0] == 'None':\n",
    "                l.pop(0)\n",
    "                return None\n",
    "                \n",
    "            root = TreeNode(l[0])\n",
    "            l.pop(0)\n",
    "            root.left = rdeserialize(l)\n",
    "            root.right = rdeserialize(l)\n",
    "            return root\n",
    "\n",
    "        data_list = data.split(',')\n",
    "        root = rdeserialize(data_list)\n",
    "        return root\n",
    "\n",
    "# Your Codec object will be instantiated and called as such:\n",
    "# codec = Codec()\n",
    "# codec.deserialize(codec.serialize(root))"
   ]
  }
 ],
 "metadata": {
  "kernelspec": {
   "display_name": "Python 3",
   "language": "python",
   "name": "python3"
  },
  "language_info": {
   "codemirror_mode": {
    "name": "ipython",
    "version": 3
   },
   "file_extension": ".py",
   "mimetype": "text/x-python",
   "name": "python",
   "nbconvert_exporter": "python",
   "pygments_lexer": "ipython3",
   "version": "3.6.3"
  }
 },
 "nbformat": 4,
 "nbformat_minor": 2
}
