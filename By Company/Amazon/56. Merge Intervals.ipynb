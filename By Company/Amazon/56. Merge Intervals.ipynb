{
 "cells": [
  {
   "cell_type": "code",
   "execution_count": null,
   "metadata": {},
   "outputs": [],
   "source": [
    "class Solution:\n",
    "    def merge(self, intervals: List[List[int]]) -> List[List[int]]:\n",
    "        intervals.sort(key=lambda x:x[0])\n",
    "        merged = []\n",
    "        for interval in intervals:\n",
    "            # if the list of merged intervals is empty or if the current\n",
    "            # interval does not overlap with the previous, simply append it.\n",
    "            if not merged or merged[-1][1] < interval[0]:\n",
    "                merged.append(interval)\n",
    "            else:\n",
    "            # otherwise, there is overlap, so we merge the current and previous\n",
    "            # intervals.\n",
    "                merged[-1][1] = max(merged[-1][1], interval[1])\n",
    "\n",
    "        return merged"
   ]
  }
 ],
 "metadata": {
  "kernelspec": {
   "display_name": "Python 3",
   "language": "python",
   "name": "python3"
  },
  "language_info": {
   "codemirror_mode": {
    "name": "ipython",
    "version": 3
   },
   "file_extension": ".py",
   "mimetype": "text/x-python",
   "name": "python",
   "nbconvert_exporter": "python",
   "pygments_lexer": "ipython3",
   "version": "3.6.3"
  }
 },
 "nbformat": 4,
 "nbformat_minor": 2
}
