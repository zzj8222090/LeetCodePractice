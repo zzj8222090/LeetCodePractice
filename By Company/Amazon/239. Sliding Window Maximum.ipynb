{
 "cells": [
  {
   "cell_type": "code",
   "execution_count": null,
   "metadata": {},
   "outputs": [],
   "source": [
    "# class Solution(object):\n",
    "#     def maxSlidingWindow(self, nums, k):\n",
    "#         \"\"\"\n",
    "#         :type nums: List[int]\n",
    "#         :type k: int\n",
    "#         :rtype: List[int]\n",
    "#         \"\"\"\n",
    "#         if not nums: return\n",
    "#         l = len(nums)-k+1\n",
    "#         result = []\n",
    "#         for i in range(l):\n",
    "#             temp = [nums[j] for j in range(i,i+k)]\n",
    "#             result.append(max(temp))\n",
    "#         return result\n",
    "class Solution:\n",
    "    def maxSlidingWindow(self, nums, k):\n",
    "        window = collections.deque()\n",
    "        ans = []\n",
    "        for i,num in enumerate(nums):\n",
    "            # decreasing window\n",
    "            # store the indexes\n",
    "            # the num before the maximun is useless, because the will be pop before the maximun\n",
    "            while window and nums[window[-1]] < num:\n",
    "                window.pop()\n",
    "            window.append(i)\n",
    "            # keep the window size\n",
    "            if window[0] == i - k:\n",
    "                window.popleft()\n",
    "            # the top of the window is the index of the maximum\n",
    "            # because it is an decreasing window\n",
    "            if i >= k - 1:\n",
    "                ans.append(nums[window[0]])\n",
    "        return ans"
   ]
  }
 ],
 "metadata": {
  "kernelspec": {
   "display_name": "Python 3",
   "language": "python",
   "name": "python3"
  },
  "language_info": {
   "codemirror_mode": {
    "name": "ipython",
    "version": 3
   },
   "file_extension": ".py",
   "mimetype": "text/x-python",
   "name": "python",
   "nbconvert_exporter": "python",
   "pygments_lexer": "ipython3",
   "version": "3.6.3"
  }
 },
 "nbformat": 4,
 "nbformat_minor": 2
}
