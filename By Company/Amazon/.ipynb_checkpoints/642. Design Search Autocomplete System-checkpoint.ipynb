{
 "cells": [
  {
   "cell_type": "code",
   "execution_count": null,
   "metadata": {},
   "outputs": [],
   "source": [
    "class AutocompleteSystem(object):\n",
    "\n",
    "    def __init__(self, sentences, times):\n",
    "        \"\"\"\n",
    "        :type sentences: List[str]\n",
    "        :type times: List[int]\n",
    "        \"\"\"\n",
    "        self.origDict = collections.defaultdict(int)\n",
    "        for i in range(len(sentences)):\n",
    "            self.origDict[sentences[i]] = times[i]\n",
    "        self.dict = copy.deepcopy(self.origDict)\n",
    "        self.cur = \"\"\n",
    "\n",
    "    def input(self, c):\n",
    "        \"\"\"\n",
    "        :type c: str\n",
    "        :rtype: List[str]\n",
    "        \"\"\"\n",
    "        if c == '#':\n",
    "            if self.cur not in self.origDict:\n",
    "                self.origDict[self.cur] = 1\n",
    "            else:\n",
    "                self.origDict[self.cur] += 1\n",
    "            self.cur = \"\"\n",
    "            self.dict = copy.deepcopy(self.origDict)\n",
    "            return []\n",
    "        self.cur += c\n",
    "        lc = len(self.cur)\n",
    "        matchList, ret = [], []\n",
    "        for key in self.dict.keys():\n",
    "            if lc<=len(key) and key.startswith(self.cur):\n",
    "                matchList.append((self.dict[key], key))\n",
    "            else:\n",
    "                self.dict.pop(key, None)\n",
    "        if not matchList: return ret\n",
    "        matchList = sorted(matchList, key = lambda x: (-x[0], x[1]))\n",
    "        idx = 0\n",
    "        while idx<min(len(matchList), 3):\n",
    "            ret.append(matchList[idx][1])\n",
    "            idx += 1\n",
    "        return ret\n",
    "            \n",
    "\n",
    "\n",
    "# Your AutocompleteSystem object will be instantiated and called as such:\n",
    "# obj = AutocompleteSystem(sentences, times)\n",
    "# param_1 = obj.input(c)"
   ]
  }
 ],
 "metadata": {
  "kernelspec": {
   "display_name": "Python 3",
   "language": "python",
   "name": "python3"
  },
  "language_info": {
   "codemirror_mode": {
    "name": "ipython",
    "version": 3
   },
   "file_extension": ".py",
   "mimetype": "text/x-python",
   "name": "python",
   "nbconvert_exporter": "python",
   "pygments_lexer": "ipython3",
   "version": "3.6.3"
  }
 },
 "nbformat": 4,
 "nbformat_minor": 2
}
