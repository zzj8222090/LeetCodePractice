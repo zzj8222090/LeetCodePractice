{
 "cells": [
  {
   "cell_type": "code",
   "execution_count": null,
   "metadata": {},
   "outputs": [],
   "source": [
    "class Solution:\n",
    "    def alienOrder(self, words: List[str]) -> str:\n",
    "        # Edge cases\n",
    "        if not words:\n",
    "            return ''\n",
    "        \n",
    "        # Initialize graphs\n",
    "        graph = collections.defaultdict(list)\n",
    "        inDegree = {c: 0 for word in words for c in word}\n",
    "        \n",
    "        # Build graphs\n",
    "        for pair in zip(words[:-1], words[1:]):\n",
    "            for c1, c2 in zip(pair[0], pair[1]):\n",
    "                if c1 != c2:\n",
    "                    graph[c1].append(c2)\n",
    "                    inDegree[c2] += 1\n",
    "                    break\n",
    "        \n",
    "        # Put vertices with in-degree == 0 in queue\n",
    "        q = collections.deque([k for k, v in inDegree.items() if v == 0])\n",
    "        res = ''\n",
    "        \n",
    "        # Start topological sort to get answer\n",
    "        while q:\n",
    "            ch = q.popleft()\n",
    "            res += ch\n",
    "            for child in graph[ch]:\n",
    "                inDegree[child] -= 1\n",
    "                if not inDegree[child]:\n",
    "                    q.append(child)\n",
    "\n",
    "        return res * (len(res) == len(graph))"
   ]
  }
 ],
 "metadata": {
  "kernelspec": {
   "display_name": "Python 3",
   "language": "python",
   "name": "python3"
  },
  "language_info": {
   "codemirror_mode": {
    "name": "ipython",
    "version": 3
   },
   "file_extension": ".py",
   "mimetype": "text/x-python",
   "name": "python",
   "nbconvert_exporter": "python",
   "pygments_lexer": "ipython3",
   "version": "3.6.3"
  }
 },
 "nbformat": 4,
 "nbformat_minor": 2
}
