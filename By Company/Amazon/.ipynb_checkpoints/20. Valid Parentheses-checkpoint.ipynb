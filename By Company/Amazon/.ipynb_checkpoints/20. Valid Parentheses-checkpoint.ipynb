{
 "cells": [
  {
   "cell_type": "code",
   "execution_count": null,
   "metadata": {},
   "outputs": [],
   "source": [
    "class Solution:\n",
    "    def isValid(self, s: str) -> bool:\n",
    "        while True:\n",
    "            l1 = len(s)\n",
    "            s = s.replace('()','').replace('[]','').replace('{}','')\n",
    "            l2 = len(s)\n",
    "            if len(s)==0:\n",
    "                return True\n",
    "            if l1==l2:\n",
    "                return False\n",
    "        return False"
   ]
  }
 ],
 "metadata": {
  "kernelspec": {
   "display_name": "Python 3",
   "language": "python",
   "name": "python3"
  },
  "language_info": {
   "codemirror_mode": {
    "name": "ipython",
    "version": 3
   },
   "file_extension": ".py",
   "mimetype": "text/x-python",
   "name": "python",
   "nbconvert_exporter": "python",
   "pygments_lexer": "ipython3",
   "version": "3.6.3"
  }
 },
 "nbformat": 4,
 "nbformat_minor": 2
}
