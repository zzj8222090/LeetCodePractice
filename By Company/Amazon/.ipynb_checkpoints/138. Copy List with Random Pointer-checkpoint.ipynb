{
 "cells": [
  {
   "cell_type": "code",
   "execution_count": null,
   "metadata": {},
   "outputs": [],
   "source": [
    "\"\"\"\n",
    "# Definition for a Node.\n",
    "class Node:\n",
    "    def __init__(self, val, next, random):\n",
    "        self.val = val\n",
    "        self.next = next\n",
    "        self.random = random\n",
    "\"\"\"\n",
    "class Solution:\n",
    "    def __init__(self):\n",
    "        # Dictionary which holds old nodes as keys and new nodes as its values.\n",
    "        self.visitedHash = {}\n",
    "\n",
    "    def copyRandomList(self, head):\n",
    "\n",
    "        if head == None:\n",
    "            return None\n",
    "\n",
    "        # If we have already processed the current node, then we simply return the cloned version of it.\n",
    "        if head in self.visitedHash:\n",
    "            return self.visitedHash[head]\n",
    "\n",
    "        # create a new node\n",
    "        # with the value same as old node.\n",
    "        node = Node(head.val, None, None)\n",
    "\n",
    "        # Save this value in the hash map. This is needed since there might be\n",
    "        # loops during traversal due to randomness of random pointers and this would help us avoid them.\n",
    "        self.visitedHash[head] = node\n",
    "\n",
    "        # Recursively copy the remaining linked list starting once from the next pointer and then from the random pointer.\n",
    "        # Thus we have two independent recursive calls.\n",
    "        # Finally we update the next and random pointers for the new node created.\n",
    "        node.next = self.copyRandomList(head.next)\n",
    "        node.random = self.copyRandomList(head.random)\n",
    "\n",
    "        return node"
   ]
  }
 ],
 "metadata": {
  "kernelspec": {
   "display_name": "Python 3",
   "language": "python",
   "name": "python3"
  },
  "language_info": {
   "codemirror_mode": {
    "name": "ipython",
    "version": 3
   },
   "file_extension": ".py",
   "mimetype": "text/x-python",
   "name": "python",
   "nbconvert_exporter": "python",
   "pygments_lexer": "ipython3",
   "version": "3.6.3"
  }
 },
 "nbformat": 4,
 "nbformat_minor": 2
}
