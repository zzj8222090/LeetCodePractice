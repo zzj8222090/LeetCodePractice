{
 "cells": [
  {
   "cell_type": "code",
   "execution_count": null,
   "metadata": {},
   "outputs": [],
   "source": [
    "class Solution:\n",
    "    def trap(self, height: List[int]) -> int:\n",
    "        output, imax, i, jmax, j = 0, 0, 0, len(height)-1, len(height) -1\n",
    "        while i <= j:\n",
    "            reference = min(height[imax], height[jmax])\n",
    "            print(reference)\n",
    "            output += (height[i] < reference)*(reference-height[i])\n",
    "            output += (height[j] < reference)*(reference-height[j])\n",
    "            \n",
    "            imax = i if height[i] > height[imax] else imax\n",
    "            jmax = j if height[j] > height[jmax] else jmax\n",
    "            \n",
    "            temp = i\n",
    "            i = i+(height[i] <= height[j])\n",
    "            j = j - (height[j] < height[temp])\n",
    "        return output"
   ]
  }
 ],
 "metadata": {
  "kernelspec": {
   "display_name": "Python 3",
   "language": "python",
   "name": "python3"
  },
  "language_info": {
   "codemirror_mode": {
    "name": "ipython",
    "version": 3
   },
   "file_extension": ".py",
   "mimetype": "text/x-python",
   "name": "python",
   "nbconvert_exporter": "python",
   "pygments_lexer": "ipython3",
   "version": "3.6.3"
  }
 },
 "nbformat": 4,
 "nbformat_minor": 2
}
