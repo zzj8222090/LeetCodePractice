{
 "cells": [
  {
   "cell_type": "code",
   "execution_count": null,
   "metadata": {},
   "outputs": [],
   "source": [
    "# import numpy\n",
    "class Solution:\n",
    "    def productExceptSelf(self, nums: List[int]) -> List[int]:\n",
    "        # i = 0\n",
    "        # result = [1]*len(nums)\n",
    "        # while i<len(nums):\n",
    "        #     tp = nums[i]\n",
    "        #     nums[i] = 1\n",
    "        #     result[i] = numpy.prod(nums)\n",
    "        #     nums[i] = tp\n",
    "        #     i+=1\n",
    "        # return result\n",
    "        output = len(nums) * [1]\n",
    "        prod = 1\n",
    "        for i,n in enumerate(nums):\n",
    "            print(prod)\n",
    "            output[i] *= prod\n",
    "            prod *= n\n",
    "        prod = 1\n",
    "        for i in range(len(nums)-1,-1,-1):\n",
    "            output[i] *= prod\n",
    "            prod *= nums[i]\n",
    "        return output"
   ]
  }
 ],
 "metadata": {
  "kernelspec": {
   "display_name": "Python 3",
   "language": "python",
   "name": "python3"
  },
  "language_info": {
   "codemirror_mode": {
    "name": "ipython",
    "version": 3
   },
   "file_extension": ".py",
   "mimetype": "text/x-python",
   "name": "python",
   "nbconvert_exporter": "python",
   "pygments_lexer": "ipython3",
   "version": "3.6.3"
  }
 },
 "nbformat": 4,
 "nbformat_minor": 2
}
