{
 "cells": [
  {
   "cell_type": "code",
   "execution_count": null,
   "metadata": {},
   "outputs": [],
   "source": [
    "class Solution:\n",
    "    def threeSum(self, nums):\n",
    "        nums.sort()\n",
    "        last_number = None\n",
    "        result = []\n",
    "\n",
    "        for i in range(0, len(nums)):\n",
    "\n",
    "            if nums[i] > 0:\n",
    "                break\n",
    "            elif nums[i] == last_number:\n",
    "                continue\n",
    "\n",
    "            l, r = i+1, len(nums)-1\n",
    "            while l < r:\n",
    "                rest = nums[i] + nums[l] + nums[r]\n",
    "                if rest < 0:\n",
    "                    l += 1\n",
    "                elif rest > 0:\n",
    "                    r -= 1\n",
    "                else:\n",
    "                    result.append([nums[i], nums[l], nums[r]])\n",
    "                    while l<r and nums[l] == nums[l+1]:\n",
    "                        l += 1\n",
    "                    while l<r and nums[r] == nums[r-1]:\n",
    "                        r -= 1\n",
    "                    l += 1\n",
    "            last_number = nums[i]\n",
    "\n",
    "        return result\n",
    "        "
   ]
  }
 ],
 "metadata": {
  "kernelspec": {
   "display_name": "Python 3",
   "language": "python",
   "name": "python3"
  },
  "language_info": {
   "codemirror_mode": {
    "name": "ipython",
    "version": 3
   },
   "file_extension": ".py",
   "mimetype": "text/x-python",
   "name": "python",
   "nbconvert_exporter": "python",
   "pygments_lexer": "ipython3",
   "version": "3.6.3"
  }
 },
 "nbformat": 4,
 "nbformat_minor": 2
}
