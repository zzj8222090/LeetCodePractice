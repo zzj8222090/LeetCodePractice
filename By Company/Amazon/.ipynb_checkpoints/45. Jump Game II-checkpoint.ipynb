{
 "cells": [
  {
   "cell_type": "code",
   "execution_count": null,
   "metadata": {},
   "outputs": [],
   "source": [
    "class Solution(object):\n",
    "    def jump(self, nums):\n",
    "        \"\"\"\n",
    "        :type nums: List[int]\n",
    "        :rtype: int\n",
    "        \"\"\"\n",
    "        # l = len(nums)\n",
    "        # visited =[False for i in range(l)]\n",
    "        # if l <= 1:\n",
    "        #     return 0\n",
    "        # queue = list()\n",
    "        # #adding a tuple to queue (value at index, index, jumps to reach index)\n",
    "        # queue.append((nums[0], 0, 1))\n",
    "        # while queue:\n",
    "        #     max_jump, index, total_jump = queue.pop(0)\n",
    "        #     for i in range(max_jump, -1, -1):\n",
    "        #         if index + i >= l - 1:\n",
    "        #             return total_jump\n",
    "        #         #checking if this index is already reached before or not\n",
    "        #         elif visited[index+i] is False :\n",
    "        #             #adding newly reached index to queue and increasing the jump by 1\n",
    "        #             queue.append((nums[index + i], index + i, total_jump + 1))\n",
    "        #             visited[index+i] = True\n",
    "        if len(nums) < 3:\n",
    "            return max(len(nums)-1,0)\n",
    "        if max(nums) == 1:\n",
    "            return len(nums)-1\n",
    "        nums = nums[len(nums)-2::-1]\n",
    "        return self.jumpHelperStepBackwards(nums, 0)\n",
    "    \n",
    "    def jumpHelperStepBackwards(self, nums, jumps):\n",
    "        if len(nums) == 0:\n",
    "            return jumps\n",
    "        biggest_end_jumper = max((x for x in range(len(nums)) if nums[x] > x))\n",
    "        return self.jumpHelperStepBackwards(nums[biggest_end_jumper+1:], jumps + 1)"
   ]
  }
 ],
 "metadata": {
  "kernelspec": {
   "display_name": "Python 3",
   "language": "python",
   "name": "python3"
  },
  "language_info": {
   "codemirror_mode": {
    "name": "ipython",
    "version": 3
   },
   "file_extension": ".py",
   "mimetype": "text/x-python",
   "name": "python",
   "nbconvert_exporter": "python",
   "pygments_lexer": "ipython3",
   "version": "3.6.3"
  }
 },
 "nbformat": 4,
 "nbformat_minor": 2
}
