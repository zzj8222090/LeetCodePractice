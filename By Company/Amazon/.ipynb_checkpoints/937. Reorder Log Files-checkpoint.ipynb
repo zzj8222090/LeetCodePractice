{
 "cells": [
  {
   "cell_type": "code",
   "execution_count": null,
   "metadata": {},
   "outputs": [],
   "source": [
    "class Solution():\n",
    "    def reorderLogFiles(self, logs):\n",
    "#         def f(log):\n",
    "#             id_, rest = log.split(\" \", 1)\n",
    "#             return (0, rest, id_) if rest[0].isalpha() else (1,)\n",
    "\n",
    "#         return sorted(logs, key = f)\n",
    "        digits = []\n",
    "        letters = []\n",
    "        for i in logs:\n",
    "            if i[-1].isdigit():\n",
    "                digits.append(i)\n",
    "            else:\n",
    "                letters.append(i)\n",
    "        letters.sort(key=lambda x: x.split()[0])\n",
    "        letters.sort(key=lambda x: x.split()[1:])\n",
    "        return letters+digits"
   ]
  }
 ],
 "metadata": {
  "kernelspec": {
   "display_name": "Python 3",
   "language": "python",
   "name": "python3"
  },
  "language_info": {
   "codemirror_mode": {
    "name": "ipython",
    "version": 3
   },
   "file_extension": ".py",
   "mimetype": "text/x-python",
   "name": "python",
   "nbconvert_exporter": "python",
   "pygments_lexer": "ipython3",
   "version": "3.6.3"
  }
 },
 "nbformat": 4,
 "nbformat_minor": 2
}
