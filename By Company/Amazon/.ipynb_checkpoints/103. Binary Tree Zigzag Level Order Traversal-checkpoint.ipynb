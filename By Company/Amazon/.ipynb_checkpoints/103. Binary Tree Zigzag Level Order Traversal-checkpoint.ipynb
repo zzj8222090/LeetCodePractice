{
 "cells": [
  {
   "cell_type": "code",
   "execution_count": null,
   "metadata": {},
   "outputs": [],
   "source": [
    "# Definition for a binary tree node.\n",
    "# class TreeNode(object):\n",
    "#     def __init__(self, x):\n",
    "#         self.val = x\n",
    "#         self.left = None\n",
    "#         self.right = None\n",
    "\n",
    "import collections\n",
    "class Solution(object):\n",
    "    def zigzagLevelOrder(self, root):\n",
    "        \"\"\"\n",
    "        :type root: TreeNode\n",
    "        :rtype: List[List[int]]\n",
    "        \"\"\"\n",
    "        deq = collections.deque()\n",
    "        if not root:\n",
    "            return []\n",
    "        res = []\n",
    "        deq.append(root)\n",
    "        right_to_left = False\n",
    "        \n",
    "        while deq:\n",
    "            length = len(deq)\n",
    "            cur_res = []\n",
    "            for _ in range(length):\n",
    "                if not right_to_left:\n",
    "                    node = deq.popleft() \n",
    "                    if node.left: deq.append(node.left)\n",
    "                    if node.right: deq.append(node.right)\n",
    "                    cur_res.append(node.val)\n",
    "                else:\n",
    "                    node = deq.pop()\n",
    "                    if node.right: deq.appendleft(node.right)\n",
    "                    if node.left: deq.appendleft(node.left)\n",
    "                    cur_res.append(node.val)\n",
    "            right_to_left = not right_to_left\n",
    "            res.append(cur_res)    \n",
    "        \n",
    "        return res\n",
    "                "
   ]
  }
 ],
 "metadata": {
  "kernelspec": {
   "display_name": "Python 3",
   "language": "python",
   "name": "python3"
  },
  "language_info": {
   "codemirror_mode": {
    "name": "ipython",
    "version": 3
   },
   "file_extension": ".py",
   "mimetype": "text/x-python",
   "name": "python",
   "nbconvert_exporter": "python",
   "pygments_lexer": "ipython3",
   "version": "3.6.3"
  }
 },
 "nbformat": 4,
 "nbformat_minor": 2
}
