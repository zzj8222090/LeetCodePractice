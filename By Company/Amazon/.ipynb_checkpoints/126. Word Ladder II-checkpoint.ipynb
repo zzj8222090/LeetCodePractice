{
 "cells": [
  {
   "cell_type": "code",
   "execution_count": null,
   "metadata": {},
   "outputs": [],
   "source": [
    "class Solution(object):\n",
    "    def findLadders(self, beginWord, endWord, wordList):\n",
    "        \"\"\"\n",
    "        :type beginWord: str\n",
    "        :type endWord: str\n",
    "        :type wordList: List[str]\n",
    "        :rtype: List[List[str]]\n",
    "        \"\"\"\n",
    "        wordList = set(wordList)\n",
    "        if endWord not in wordList:\n",
    "            return []\n",
    "        # BFS visit\n",
    "        curr_level = {beginWord}\n",
    "        parents = collections.defaultdict(list)\n",
    "        while curr_level:\n",
    "            wordList -= curr_level\n",
    "            next_level = set()\n",
    "            for word in curr_level:\n",
    "                for i in range(len(word)):\n",
    "                    for c in 'abcdefghijklmnopqrstuvwxyz':\n",
    "                        new_word = word[:i] + c + word[i+1:]\n",
    "                        if new_word in wordList:\n",
    "                            next_level.add(new_word)\n",
    "                            parents[new_word].append(word)\n",
    "            if endWord in next_level:\n",
    "                break\n",
    "            curr_level = next_level\n",
    "        # DFS reconstruction\n",
    "        res = []\n",
    "        def dfs(word, path):\n",
    "            if word == beginWord:\n",
    "                path.append(word)\n",
    "                res.append(path[::-1])\n",
    "            else:\n",
    "                for p_word in parents[word]:\n",
    "                    dfs(p_word, path + [word])\n",
    "        dfs(endWord, [])\n",
    "        return res\n",
    "        "
   ]
  }
 ],
 "metadata": {
  "kernelspec": {
   "display_name": "Python 3",
   "language": "python",
   "name": "python3"
  },
  "language_info": {
   "codemirror_mode": {
    "name": "ipython",
    "version": 3
   },
   "file_extension": ".py",
   "mimetype": "text/x-python",
   "name": "python",
   "nbconvert_exporter": "python",
   "pygments_lexer": "ipython3",
   "version": "3.6.3"
  }
 },
 "nbformat": 4,
 "nbformat_minor": 2
}
