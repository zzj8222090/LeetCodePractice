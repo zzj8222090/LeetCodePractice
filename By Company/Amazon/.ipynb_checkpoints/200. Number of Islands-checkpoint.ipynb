{
 "cells": [
  {
   "cell_type": "code",
   "execution_count": null,
   "metadata": {},
   "outputs": [],
   "source": [
    "class Solution:\n",
    "    def numIslands(self, grid: List[List[str]]) -> int:\n",
    "        islands = 0\n",
    "        for i in range(len(grid)):  \n",
    "            for j in range(len(grid[0])):\n",
    "                if grid[i][j] == '1':\n",
    "                    islands += 1\n",
    "                    self.part_of_island(i,j,grid)\n",
    "        return islands\n",
    "\n",
    "    def part_of_island(self, i, j,grid):\n",
    "        if i < 0 or j < 0 or i == len(grid) or j == len(grid[0]) or grid[i][j] != '1':\n",
    "            return\n",
    "        else:\n",
    "            grid[i][j] = '0'\n",
    "        self.part_of_island(i,j+1,grid)\n",
    "        self.part_of_island(i,j-1,grid)\n",
    "        self.part_of_island(i+1,j,grid)\n",
    "        self.part_of_island(i-1,j,grid)"
   ]
  }
 ],
 "metadata": {
  "kernelspec": {
   "display_name": "Python 3",
   "language": "python",
   "name": "python3"
  },
  "language_info": {
   "codemirror_mode": {
    "name": "ipython",
    "version": 3
   },
   "file_extension": ".py",
   "mimetype": "text/x-python",
   "name": "python",
   "nbconvert_exporter": "python",
   "pygments_lexer": "ipython3",
   "version": "3.7.2"
  }
 },
 "nbformat": 4,
 "nbformat_minor": 2
}
