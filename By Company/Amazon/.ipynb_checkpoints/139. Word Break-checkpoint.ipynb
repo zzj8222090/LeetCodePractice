{
 "cells": [
  {
   "cell_type": "code",
   "execution_count": null,
   "metadata": {},
   "outputs": [],
   "source": [
    "class Solution:\n",
    "    def wordBreak(self, s: str, wordDict: List[str]) -> bool:\n",
    "        dictSet = set(wordDict)\n",
    "        dp = [False] * (len(s)+1)\n",
    "        dp[0] = True\n",
    "        for i in range(1,len(s)+1):\n",
    "            for j in range(i):\n",
    "                if dp[j] and s[j:i] in dictSet:\n",
    "                    dp[i] = True\n",
    "                    break\n",
    "        return dp[len(s)]"
   ]
  }
 ],
 "metadata": {
  "kernelspec": {
   "display_name": "Python 3",
   "language": "python",
   "name": "python3"
  },
  "language_info": {
   "codemirror_mode": {
    "name": "ipython",
    "version": 3
   },
   "file_extension": ".py",
   "mimetype": "text/x-python",
   "name": "python",
   "nbconvert_exporter": "python",
   "pygments_lexer": "ipython3",
   "version": "3.6.3"
  }
 },
 "nbformat": 4,
 "nbformat_minor": 2
}
