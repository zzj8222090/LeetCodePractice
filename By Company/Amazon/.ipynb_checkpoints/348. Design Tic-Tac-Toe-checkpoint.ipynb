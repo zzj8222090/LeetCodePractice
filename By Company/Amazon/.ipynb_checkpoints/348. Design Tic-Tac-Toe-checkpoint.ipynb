{
 "cells": [
  {
   "cell_type": "code",
   "execution_count": null,
   "metadata": {},
   "outputs": [],
   "source": [
    "class TicTacToe:\n",
    "\n",
    "    def __init__(self, n: int):\n",
    "        \"\"\"\n",
    "        Initialize your data structure here.\n",
    "        \"\"\"\n",
    "        self.rows = [[0]*n for i in range(n)]\n",
    "        self.cols = [[0]*n for i in range(n)]\n",
    "        self.diagonal = [0]*n\n",
    "        self.anti_diagonal = [0]*n\n",
    "        self.n = n\n",
    "\n",
    "    def move(self, row: int, col: int, player: int) -> int:\n",
    "        \"\"\"\n",
    "        Player {player} makes a move at ({row}, {col}).\n",
    "        @param row The row of the board.\n",
    "        @param col The column of the board.\n",
    "        @param player The player, can be either 1 or 2.\n",
    "        @return The current winning condition, can be either:\n",
    "                0: No one wins.\n",
    "                1: Player 1 wins.\n",
    "                2: Player 2 wins.\n",
    "        \"\"\"\n",
    "        self.rows[row][col] = player\n",
    "        self.cols[col][row] = player\n",
    "\n",
    "        if row == col :\n",
    "            self.diagonal[row] = player\n",
    "        if row+col == self.n-1:\n",
    "            self.anti_diagonal[row] = player\n",
    "\n",
    "        if ([player]*self.n in self.rows) or ([player]*self.n in self.cols) or ([player]*self.n == self.diagonal) or ([player]*self.n == self.anti_diagonal):\n",
    "            return player\n",
    "        else:\n",
    "            return 0\n",
    "\n",
    "\n",
    "# Your TicTacToe object will be instantiated and called as such:\n",
    "# obj = TicTacToe(n)\n",
    "# param_1 = obj.move(row,col,player)"
   ]
  }
 ],
 "metadata": {
  "kernelspec": {
   "display_name": "Python 3",
   "language": "python",
   "name": "python3"
  },
  "language_info": {
   "codemirror_mode": {
    "name": "ipython",
    "version": 3
   },
   "file_extension": ".py",
   "mimetype": "text/x-python",
   "name": "python",
   "nbconvert_exporter": "python",
   "pygments_lexer": "ipython3",
   "version": "3.7.2"
  }
 },
 "nbformat": 4,
 "nbformat_minor": 2
}
