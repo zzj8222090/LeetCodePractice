{
 "cells": [
  {
   "cell_type": "code",
   "execution_count": null,
   "metadata": {},
   "outputs": [],
   "source": [
    "class Solution:\n",
    "    def lengthOfLongestSubstring(self, s: str) -> int:\n",
    "        l = res = 0\n",
    "        memo = {}\n",
    "        for r,x in enumerate(s):         \n",
    "            if x in memo:  # when we meet repeating characters( substring does not meet requirement, update left pointer)\n",
    "                l = max(l, memo[x] + 1)  # why don't we use \"l = memo[x] + 1\"? refer to testcase like 'abba'\n",
    "            memo[x] = r  # update new index for character x (memo[x] will always be the largest index in the characters we visited)\n",
    "            res = max(res, r - l + 1)  # inclusive, l: first index of the string, r: last index of the string\n",
    "        return res\n"
   ]
  }
 ],
 "metadata": {
  "kernelspec": {
   "display_name": "Python 3",
   "language": "python",
   "name": "python3"
  },
  "language_info": {
   "codemirror_mode": {
    "name": "ipython",
    "version": 3
   },
   "file_extension": ".py",
   "mimetype": "text/x-python",
   "name": "python",
   "nbconvert_exporter": "python",
   "pygments_lexer": "ipython3",
   "version": "3.6.3"
  }
 },
 "nbformat": 4,
 "nbformat_minor": 2
}
