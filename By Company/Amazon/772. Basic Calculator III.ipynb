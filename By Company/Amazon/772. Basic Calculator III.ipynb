{
 "cells": [
  {
   "cell_type": "code",
   "execution_count": null,
   "metadata": {},
   "outputs": [],
   "source": [
    "class Solution:\n",
    "    def calculate(self, s):\n",
    "        if not s or len(s) == 0: return 0\n",
    "        l1, o1 = 0, 1 #for + - level\n",
    "        l2, o2 = 0, 0 # for * / level - o2 == 1 means *, o2 == -1 means /\n",
    "        num = 0\n",
    "        i = 0\n",
    "        stk = []\n",
    "        \n",
    "        while i < len(s):\n",
    "            c = s[i]\n",
    "            if c.isdigit():\n",
    "                num = num * 10 + ord(c) - ord('0')\n",
    "                if i == len(s) - 1 or not s[i+1].isdigit():\n",
    "                    if o2 == 0: l2 = num\n",
    "                    if o2 == 1: l2 *= num\n",
    "                    if o2 == -1: l2 //= num\n",
    "            elif c == '(':\n",
    "                stk.append(l1)\n",
    "                stk.append(o1)\n",
    "                stk.append(l2)\n",
    "                stk.append(o2)\n",
    "                l1, o1 = 0, 1\n",
    "                l2, o2 = 0, 0\n",
    "                num = 0\n",
    "            elif c == ')':\n",
    "                v = l1 + o1 * l2\n",
    "                o2 = stk.pop()\n",
    "                l2 = stk.pop()\n",
    "                o1 = stk.pop()\n",
    "                l1 = stk.pop()\n",
    "                if o2 == 0: l2 = v\n",
    "                if o2 == 1: l2 = v * l2\n",
    "                if o2 == -1: l2 = l2 // v\n",
    "            elif c == '*' or c == '/':\n",
    "                o2 = 1 if c == '*' else  -1\n",
    "                num = 0\n",
    "            elif c == '+' or c == '-':\n",
    "                l1 = l1 + o1 * l2\n",
    "                if c == '+': \n",
    "                    o1 = 1\n",
    "                else: \n",
    "                    o1 = -1\n",
    "                #restore level 2\n",
    "                num, l2, o2 = 0, 0, 0\n",
    "            i += 1\n",
    "                \n",
    "        return int(l1 + o1 * l2)"
   ]
  }
 ],
 "metadata": {
  "kernelspec": {
   "display_name": "Python 3",
   "language": "python",
   "name": "python3"
  },
  "language_info": {
   "codemirror_mode": {
    "name": "ipython",
    "version": 3
   },
   "file_extension": ".py",
   "mimetype": "text/x-python",
   "name": "python",
   "nbconvert_exporter": "python",
   "pygments_lexer": "ipython3",
   "version": "3.6.3"
  }
 },
 "nbformat": 4,
 "nbformat_minor": 2
}
