{
 "cells": [
  {
   "cell_type": "code",
   "execution_count": null,
   "metadata": {},
   "outputs": [],
   "source": [
    "class MedianFinder:\n",
    "    # import heapq\n",
    "    def __init__(self):\n",
    "        \"\"\"\n",
    "        initialize your data structure here.\n",
    "        \"\"\"\n",
    "        self.lst = []\n",
    "\n",
    "    def addNum(self, num: int) -> None:\n",
    "        if not self.lst or self.lst[-1] <= num:\n",
    "            self.lst.append(num)\n",
    "            return \n",
    "        l, r = 0, len(self.lst)-1\n",
    "        while l <= r:\n",
    "            mid = (l + r) // 2\n",
    "            if num < self.lst[mid]:\n",
    "                r = mid-1\n",
    "            else:\n",
    "                l = mid+1\n",
    "        self.lst.insert(l, num) \n",
    "\n",
    "\n",
    "    def findMedian(self) -> float:\n",
    "        # import statistics\n",
    "        # if self.lst:\n",
    "        #     return statistics.median(self.lst)\n",
    "        # return \n",
    "        # tp = heapq.nsmallest(len(self.l),self.l)\n",
    "        if self.lst:\n",
    "            if len(self.lst)%2!=0:\n",
    "                return self.lst[len(self.lst)//2]\n",
    "            else:\n",
    "                return (self.lst[len(self.lst)//2-1]+self.lst[len(self.lst)//2])/2\n",
    "        else:\n",
    "            return\n",
    "\n",
    "\n",
    "# Your MedianFinder object will be instantiated and called as such:\n",
    "# obj = MedianFinder()\n",
    "# obj.addNum(num)\n",
    "# param_2 = obj.findMedian()"
   ]
  }
 ],
 "metadata": {
  "kernelspec": {
   "display_name": "Python 3",
   "language": "python",
   "name": "python3"
  },
  "language_info": {
   "codemirror_mode": {
    "name": "ipython",
    "version": 3
   },
   "file_extension": ".py",
   "mimetype": "text/x-python",
   "name": "python",
   "nbconvert_exporter": "python",
   "pygments_lexer": "ipython3",
   "version": "3.6.3"
  }
 },
 "nbformat": 4,
 "nbformat_minor": 2
}
