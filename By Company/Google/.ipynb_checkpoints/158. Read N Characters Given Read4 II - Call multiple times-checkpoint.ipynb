{
 "cells": [
  {
   "cell_type": "code",
   "execution_count": null,
   "metadata": {},
   "outputs": [],
   "source": [
    "from collections import deque\n",
    "from math import ceil\n",
    "from typing import List\n",
    "\n",
    "class Solution:\n",
    "\n",
    "    def __init__(self):\n",
    "        self.buffer = deque()\n",
    "\n",
    "    def read(self, buf: List[str], n):\n",
    "        \"\"\"\n",
    "        :type buf: Destination buffer (List[str])\n",
    "        :type n: Number of characters to read (int)\n",
    "        :rtype: The number of actual characters read (int)\n",
    "        \"\"\"\n",
    "        pending_reads = ceil((n - len(self.buffer)) / 4)\n",
    "        print(pending_reads)\n",
    "        for i in range(pending_reads):\n",
    "            temp_buf = [' '] * 4\n",
    "            r = read4(temp_buf)\n",
    "            if r > 0:\n",
    "                self.buffer.extend(temp_buf[:r])\n",
    "            if r < 4:\n",
    "                break\n",
    "        rc = min(len(self.buffer), n)\n",
    "        for i in range(rc):\n",
    "            buf[i] = self.buffer.popleft()\n",
    "        return rc"
   ]
  }
 ],
 "metadata": {
  "kernelspec": {
   "display_name": "Python 3",
   "language": "python",
   "name": "python3"
  },
  "language_info": {
   "codemirror_mode": {
    "name": "ipython",
    "version": 3
   },
   "file_extension": ".py",
   "mimetype": "text/x-python",
   "name": "python",
   "nbconvert_exporter": "python",
   "pygments_lexer": "ipython3",
   "version": "3.6.3"
  }
 },
 "nbformat": 4,
 "nbformat_minor": 2
}
