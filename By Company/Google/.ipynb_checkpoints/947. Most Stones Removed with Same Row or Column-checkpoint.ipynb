{
 "cells": [
  {
   "cell_type": "code",
   "execution_count": null,
   "metadata": {},
   "outputs": [],
   "source": [
    "from collections import defaultdict\n",
    "class Solution:\n",
    "    def removeStones(self, stones: List[List[int]]) -> int:\n",
    "        stones = [tuple(x) for x in stones]\n",
    "        row, col = defaultdict(list), defaultdict(list)\n",
    "        for i, j in stones:\n",
    "            row[i].append((i, j))\n",
    "            col[j].append((i, j))\n",
    "        visited = set()\n",
    "        def dfs(i, j):\n",
    "            visited.add((i, j))\n",
    "            ans = 1\n",
    "            for ni, nj in row[i] + col[j]:\n",
    "                if (ni, nj) in visited: continue\n",
    "                ans += dfs(ni, nj)\n",
    "            return ans\n",
    "        ans = 0\n",
    "        for i, j in stones:\n",
    "            if (i, j) in visited: continue\n",
    "            ans += dfs(i, j) - 1\n",
    "        return ans"
   ]
  }
 ],
 "metadata": {
  "kernelspec": {
   "display_name": "Python 3",
   "language": "python",
   "name": "python3"
  },
  "language_info": {
   "codemirror_mode": {
    "name": "ipython",
    "version": 3
   },
   "file_extension": ".py",
   "mimetype": "text/x-python",
   "name": "python",
   "nbconvert_exporter": "python",
   "pygments_lexer": "ipython3",
   "version": "3.6.3"
  }
 },
 "nbformat": 4,
 "nbformat_minor": 2
}
