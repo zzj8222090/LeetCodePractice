{
 "cells": [
  {
   "cell_type": "code",
   "execution_count": null,
   "metadata": {},
   "outputs": [],
   "source": [
    "class Solution(object):\n",
    "    def new21Game(self, N, K, W):\n",
    "        dp = [0.0] * (N + W + 1)\n",
    "        # dp[x] = the answer when Alice has x points\n",
    "        for k in range(K, N + 1):\n",
    "            dp[k] = 1.0\n",
    "\n",
    "        S = min(N - K + 1, W)\n",
    "        # S = dp[k+1] + dp[k+2] + ... + dp[k+W]\n",
    "        for k in range(K - 1, -1, -1):\n",
    "            dp[k] = S / float(W)\n",
    "            S += dp[k] - dp[k + W]\n",
    "\n",
    "        return dp[0]"
   ]
  }
 ],
 "metadata": {
  "kernelspec": {
   "display_name": "Python 3",
   "language": "python",
   "name": "python3"
  },
  "language_info": {
   "codemirror_mode": {
    "name": "ipython",
    "version": 3
   },
   "file_extension": ".py",
   "mimetype": "text/x-python",
   "name": "python",
   "nbconvert_exporter": "python",
   "pygments_lexer": "ipython3",
   "version": "3.6.3"
  }
 },
 "nbformat": 4,
 "nbformat_minor": 2
}
