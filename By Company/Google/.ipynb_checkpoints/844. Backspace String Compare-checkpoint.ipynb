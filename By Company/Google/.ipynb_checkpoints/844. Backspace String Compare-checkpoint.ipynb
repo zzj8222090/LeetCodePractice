{
 "cells": [
  {
   "cell_type": "code",
   "execution_count": null,
   "metadata": {},
   "outputs": [],
   "source": [
    "class Solution:\n",
    "    def backspaceCompare(self, S: str, T: str) -> bool:\n",
    "        def change(s):\n",
    "            stack = []\n",
    "            for ch in s:\n",
    "                if ch!='#':\n",
    "                    stack.append(ch)\n",
    "                else:\n",
    "                    if stack:\n",
    "                        stack.pop()\n",
    "            return stack\n",
    "        return change(S)==change(T)"
   ]
  }
 ],
 "metadata": {
  "kernelspec": {
   "display_name": "Python 3",
   "language": "python",
   "name": "python3"
  },
  "language_info": {
   "codemirror_mode": {
    "name": "ipython",
    "version": 3
   },
   "file_extension": ".py",
   "mimetype": "text/x-python",
   "name": "python",
   "nbconvert_exporter": "python",
   "pygments_lexer": "ipython3",
   "version": "3.6.3"
  }
 },
 "nbformat": 4,
 "nbformat_minor": 2
}
