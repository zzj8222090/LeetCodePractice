{
 "cells": [
  {
   "cell_type": "code",
   "execution_count": null,
   "metadata": {},
   "outputs": [],
   "source": [
    "class Solution:\n",
    "    def calcEquation(self, equations: List[List[str]], values: List[float], queries: List[List[str]]) -> List[float]:\n",
    "        graph = collections.defaultdict(dict)\n",
    "        for edge, v in zip(equations, values):\n",
    "            graph[edge[0]][edge[1]] = v\n",
    "            graph[edge[1]][edge[0]] = 1/v\n",
    "        \n",
    "        def find(start, end):\n",
    "            if start not in graph or end not in graph: return -1.0\n",
    "            nodes = collections.deque([[start, 1.0]])\n",
    "            visited = set([start])\n",
    "            while nodes:\n",
    "                curr, total = nodes.popleft()\n",
    "                if curr == end: return total\n",
    "                for vertex, value in graph[curr].items():\n",
    "                    if vertex in visited: continue\n",
    "                    visited.add(vertex)\n",
    "                    nodes.append([vertex, total * value])\n",
    "            return -1.0\n",
    "        return [find(start, end) for start, end in queries]"
   ]
  }
 ],
 "metadata": {
  "kernelspec": {
   "display_name": "Python 3",
   "language": "python",
   "name": "python3"
  },
  "language_info": {
   "codemirror_mode": {
    "name": "ipython",
    "version": 3
   },
   "file_extension": ".py",
   "mimetype": "text/x-python",
   "name": "python",
   "nbconvert_exporter": "python",
   "pygments_lexer": "ipython3",
   "version": "3.6.3"
  }
 },
 "nbformat": 4,
 "nbformat_minor": 2
}
