{
 "cells": [
  {
   "cell_type": "code",
   "execution_count": null,
   "metadata": {},
   "outputs": [],
   "source": [
    "class Solution(object):\n",
    "    def assignBikes(self, workers, bikes):\n",
    "        \"\"\"\n",
    "        :type workers: List[List[int]]\n",
    "        :type bikes: List[List[int]]\n",
    "        :rtype: int\n",
    "        \"\"\"\n",
    "        def dist(p1, p2): return abs(p1[0]-p2[0]) + abs(p1[1]-p2[1])\n",
    "        \n",
    "        def dp(s, i):\n",
    "            if (s, i) in memo: return memo[s, i]\n",
    "            if i == len(workers): memo[s, i] = 0; return 0\n",
    "            memo[s, i] = min(dist(workers[i], bikes[j]) + dp(s|1<<j, i+1)\n",
    "                             for j in range(len(bikes)) if not s&1<<j)\n",
    "            return memo[s, i]\n",
    "        \n",
    "        memo = {}\n",
    "        return dp(0, 0)"
   ]
  },
  {
   "cell_type": "code",
   "execution_count": null,
   "metadata": {},
   "outputs": [],
   "source": [
    "class Solution:\n",
    "    \n",
    "    def assignBikes(self, workers: List[List[int]], bikes: List[List[int]]) -> int:\n",
    "               \n",
    "        def dist(x, y):\n",
    "            return abs(x[0]- y[0]) + abs(x[1] - y[1])\n",
    "        \n",
    "        def calculate(i, visited, cache):\n",
    "            \n",
    "            if i == len(workers): return 0\n",
    "            \n",
    "            if (i, visited) in cache:\n",
    "                return cache[(i, visited)]\n",
    "            \n",
    "            ans = float('inf')\n",
    "            for j, bike in enumerate(bikes):\n",
    "                if visited & 1 << j: continue\n",
    "                ans = min(ans, dist(bike, workers[i]) + calculate(i+1, visited | 1 << j, cache))\n",
    "            cache[(i, visited)] = ans\n",
    "            return ans\n",
    "        \n",
    "        return calculate(0, 0, {})"
   ]
  }
 ],
 "metadata": {
  "kernelspec": {
   "display_name": "Python 3",
   "language": "python",
   "name": "python3"
  },
  "language_info": {
   "codemirror_mode": {
    "name": "ipython",
    "version": 3
   },
   "file_extension": ".py",
   "mimetype": "text/x-python",
   "name": "python",
   "nbconvert_exporter": "python",
   "pygments_lexer": "ipython3",
   "version": "3.7.2"
  }
 },
 "nbformat": 4,
 "nbformat_minor": 2
}
