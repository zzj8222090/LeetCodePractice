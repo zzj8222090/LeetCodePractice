{
 "cells": [
  {
   "cell_type": "code",
   "execution_count": null,
   "metadata": {},
   "outputs": [],
   "source": [
    "class Solution:\n",
    "    # def crackSafe(self, n: int, k: int) -> str:\n",
    "    #     tgt = k ** n\n",
    "    #     start = \"0\"*n\n",
    "    #     visited = set([start])\n",
    "    #     chrs = ['0']*n\n",
    "    #     def dfs(s):\n",
    "    #         if len(visited) == tgt: return True\n",
    "    #         pre = s[1:]\n",
    "    #         for c in range(k):\n",
    "    #             curr = pre + str(c)\n",
    "    #             if curr not in visited:\n",
    "    #                 visited.add(curr)\n",
    "    #                 chrs.append(str(c))\n",
    "    #                 if dfs(curr): return True\n",
    "    #                 visited.remove(curr)\n",
    "    #                 chrs.pop()\n",
    "    #         return False\n",
    "    #     dfs(start)\n",
    "    #     return \"\".join(chrs)\n",
    "    def crackSafe(self, n, k):\n",
    "        res='0'*n;  visited={res}\n",
    "        for i in range(k**n):\n",
    "            pre=res[len(res)-n+1:]\n",
    "            for j in range(k-1, -1, -1):\n",
    "                cur=pre+str(j)\n",
    "                if cur not in visited:\n",
    "                    visited.add(cur)\n",
    "                    res+=str(j)\n",
    "                    break\n",
    "        return res"
   ]
  }
 ],
 "metadata": {
  "kernelspec": {
   "display_name": "Python 3",
   "language": "python",
   "name": "python3"
  },
  "language_info": {
   "codemirror_mode": {
    "name": "ipython",
    "version": 3
   },
   "file_extension": ".py",
   "mimetype": "text/x-python",
   "name": "python",
   "nbconvert_exporter": "python",
   "pygments_lexer": "ipython3",
   "version": "3.6.3"
  }
 },
 "nbformat": 4,
 "nbformat_minor": 2
}
